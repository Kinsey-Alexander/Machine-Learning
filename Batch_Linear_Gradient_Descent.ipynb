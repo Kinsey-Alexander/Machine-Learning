{
 "cells": [
  {
   "cell_type": "code",
   "execution_count": null,
   "id": "04664bb7-3fa2-4f33-bf39-6b7b958f8c52",
   "metadata": {},
   "outputs": [],
   "source": [
    "# pip install -U scikit-learn\n",
    "# https://scikit-learn.org/stable/datasets"
   ]
  },
  {
   "cell_type": "code",
   "execution_count": null,
   "id": "7e27edcc-0946-48ba-8bc5-55c5ed11d9a6",
   "metadata": {},
   "outputs": [],
   "source": [
    "import numpy as np\n",
    "import matplotlib.pyplot as plt\n",
    "from matplotlib.animation import FuncAnimation\n",
    "from IPython.display import HTML\n",
    "from sklearn import datasets\n",
    "import pandas as pd\n",
    "from Gradient_Descent_Algorithms import gradDescentLinear"
   ]
  },
  {
   "cell_type": "markdown",
   "id": "108aa5ee-017b-4639-bcc2-7b16b8e4bda2",
   "metadata": {},
   "source": [
    "# Data pull"
   ]
  },
  {
   "cell_type": "code",
   "execution_count": null,
   "id": "7a750143-2ec5-4470-ae8f-b71925fe72dd",
   "metadata": {},
   "outputs": [],
   "source": [
    "# Multiple Features\n",
    "'''\n",
    "diabetes = datasets.load_diabetes()\n",
    "\n",
    "# Create a Pandas DataFrame\n",
    "diabetes_df = pd.DataFrame(data=diabetes.data, columns=diabetes.feature_names) # importing feature matrix\n",
    "diabetes_df['target'] = diabetes.target # importing target array\n",
    "\n",
    "X2 = np.array(diabetes_df.age)\n",
    "X2 = np.array(diabetes_df.sex)\n",
    "X = np.c_[X1, X2]\n",
    "Y = np.array(diabetes_df['target'])\n",
    "'''\n",
    "\n",
    "X1 = np.arange(0, 10, 1)\n",
    "X2 = np.arange(10, 60, 5)\n",
    "\n",
    "X = np.c_[X1, X2]\n",
    "Y = 10 + 5 * X1 + 6 * X2\n",
    "Y"
   ]
  },
  {
   "cell_type": "code",
   "execution_count": null,
   "id": "1d11e0cb-7215-4a82-b782-16502a4ac208",
   "metadata": {},
   "outputs": [],
   "source": [
    "# Single Feature\n",
    "X = np.arange(0, 20, 1)\n",
    "X = 10 + 5 * X\n",
    "Y"
   ]
  },
  {
   "cell_type": "markdown",
   "id": "c465244d-c657-4146-84c2-85ab34ac99f2",
   "metadata": {},
   "source": [
    "# Running the code"
   ]
  },
  {
   "cell_type": "code",
   "execution_count": null,
   "id": "a7665a23-efa1-43c4-9159-d39e7704df75",
   "metadata": {},
   "outputs": [],
   "source": [
    "iterations = 1000\n",
    "alpha = 1e-2\n",
    "wnorm, bnorm, costHistory, wHistory, bHistory, XNorm = gradDescentLinear(X, Y, alpha, iterations)\n",
    "y_predict = bnorm + wnorm*XNorm # single feature\n",
    "#y_predict = bnorm + wnorm[0] * XNorm[:, 0] + wnorm[1] * XNorm[:, 1] # 2 features\n",
    "y_predict"
   ]
  },
  {
   "cell_type": "markdown",
   "id": "35450a55-623e-4e4c-9ffe-63a576b67539",
   "metadata": {},
   "source": [
    "# Visualizations:"
   ]
  },
  {
   "cell_type": "code",
   "execution_count": null,
   "id": "2e74e2b0-0db1-4581-8fc8-4538ae218cdc",
   "metadata": {},
   "outputs": [],
   "source": [
    "Jx = list(range(iterations))\n",
    "plt.plot(Jx, costHistory)\n",
    "plt.title('Cost vs # Iterations')\n",
    "plt. xlabel('# Iterations')\n",
    "plt.ylabel('Cost') \n",
    "plt.show()"
   ]
  },
  {
   "cell_type": "code",
   "execution_count": null,
   "id": "531abf51-eee2-4a41-84e9-ad3362398fd5",
   "metadata": {},
   "outputs": [],
   "source": [
    "# WORKS FOR SINGLE VARIABLE REGRESSION RESULTS ONLY\n",
    "\n",
    "# Create a scatter plot \n",
    "fig, ax = plt.subplots()\n",
    "scatter = ax.scatter(X, Y, label='Training Data (Feature 1)')\n",
    "\n",
    "# Animate each iteration over scatter plot\n",
    "def update(frame):\n",
    "    ax.clear()  # Clear previous plot\n",
    "    ax.scatter(X, Y, label='Training Data (Feature 1)')\n",
    "    \n",
    "    # Plot the line for the current iteration\n",
    "    ytest = XNorm * wHistory[frame] + bHistory[frame]\n",
    "    ax.plot(X, ytest, label=f'Iteration {frame}')\n",
    "    ax.set_title('Gradient Descent Training Progression')\n",
    "    ax.set_xlabel('X')\n",
    "    ax.set_ylabel('Y')\n",
    "    plt.legend()\n",
    "\n",
    "animation = FuncAnimation(fig, update, frames=range(0, len(wHistory), 10), interval = 1000, repeat=False)\n",
    "\n",
    "# Display the animation as HTML for use in Jupyter Notebook\n",
    "html_anim = HTML(animation.to_jshtml())\n",
    "html_anim"
   ]
  },
  {
   "cell_type": "code",
   "execution_count": null,
   "id": "7656c17e-3998-49ce-af84-789ead84e282",
   "metadata": {},
   "outputs": [],
   "source": [
    "# WORKS FOR MULTI VARIABLE REGRESSION RESULTS ONLY\n",
    "\n",
    "# Set feature to plot:\n",
    "h = 0 # feature 1\n",
    "#h = 1 # feature 2\n",
    "\n",
    "# Create a scatter plot\n",
    "fig, ax = plt.subplots()\n",
    "scatter = ax.scatter(X[:, h], Y, label=f'Training Data (Feature {h + 1})')\n",
    "\n",
    "# Generate array of predicted target values for each iteration\n",
    "ypred = np.zeros((len(Y), iterations))\n",
    "\n",
    "for i in range(len(Y)):\n",
    "    for j in range(iterations):\n",
    "        for k in range(X.shape[1]):\n",
    "            ypred[i, j] += wHistory[j, k] * XNorm[i, k]\n",
    "        ypred[i, j] = ypred[i, j] + bHistory[j]\n",
    "\n",
    "# Animate each iteration over scatter plot\n",
    "def update(frame):\n",
    "    ax.clear()  # Clear previous plot\n",
    "    ax.scatter(X[:, h], Y, label=f'Training Data (Feature {h + 1})')\n",
    "    yset = ypred[:, frame]\n",
    "    ax.plot(X[:, h], yset, label=f'Iteration {frame}')\n",
    "    ax.set_title('Gradient Descent Training Progression')\n",
    "    ax.set_xlabel('X')\n",
    "    ax.set_ylabel('Y')\n",
    "    plt.legend()\n",
    "\n",
    "animation = FuncAnimation(fig, update, frames=range(0, len(wHistory), 10), interval = 1000, repeat=False)\n",
    "\n",
    "# Display the animation as HTML for use in Jupyter Notebook\n",
    "html_anim = HTML(animation.to_jshtml())\n",
    "html_anim"
   ]
  },
  {
   "cell_type": "code",
   "execution_count": null,
   "id": "e7c63fad-2228-4af7-a96d-feaba5006c95",
   "metadata": {},
   "outputs": [],
   "source": []
  }
 ],
 "metadata": {
  "kernelspec": {
   "display_name": "Python 3 (ipykernel)",
   "language": "python",
   "name": "python3"
  },
  "language_info": {
   "codemirror_mode": {
    "name": "ipython",
    "version": 3
   },
   "file_extension": ".py",
   "mimetype": "text/x-python",
   "name": "python",
   "nbconvert_exporter": "python",
   "pygments_lexer": "ipython3",
   "version": "3.10.5"
  }
 },
 "nbformat": 4,
 "nbformat_minor": 5
}
